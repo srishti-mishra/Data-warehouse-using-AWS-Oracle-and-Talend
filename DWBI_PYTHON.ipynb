{
 "cells": [
  {
   "cell_type": "code",
   "execution_count": 1,
   "metadata": {},
   "outputs": [],
   "source": [
    "import pyforest"
   ]
  },
  {
   "cell_type": "code",
   "execution_count": 84,
   "metadata": {},
   "outputs": [
    {
     "data": {
      "application/javascript": [
       "\n",
       "        if (window._pyforest_update_imports_cell) { window._pyforest_update_imports_cell('import numpy as np\\nimport pandas as pd'); }\n",
       "    "
      ],
      "text/plain": [
       "<IPython.core.display.Javascript object>"
      ]
     },
     "metadata": {},
     "output_type": "display_data"
    },
    {
     "data": {
      "application/javascript": [
       "\n",
       "        if (window._pyforest_update_imports_cell) { window._pyforest_update_imports_cell('import numpy as np\\nimport pandas as pd'); }\n",
       "    "
      ],
      "text/plain": [
       "<IPython.core.display.Javascript object>"
      ]
     },
     "metadata": {},
     "output_type": "display_data"
    },
    {
     "name": "stdout",
     "output_type": "stream",
     "text": [
      "Index(['Order ID', 'Order Date', 'Ship Date', 'Ship Mode', 'Customer ID',\n",
      "       'Customer Name', 'Segment', 'Postal Code', 'Region', 'Product ID',\n",
      "       'Category', 'Sub-Category', 'Product Name', 'Sales', 'Quantity',\n",
      "       'Discount', 'Profit'],\n",
      "      dtype='object')\n"
     ]
    },
    {
     "data": {
      "application/javascript": [
       "\n",
       "        if (window._pyforest_update_imports_cell) { window._pyforest_update_imports_cell('import numpy as np\\nimport pandas as pd'); }\n",
       "    "
      ],
      "text/plain": [
       "<IPython.core.display.Javascript object>"
      ]
     },
     "metadata": {},
     "output_type": "display_data"
    },
    {
     "name": "stdout",
     "output_type": "stream",
     "text": [
      "Max Column Lengths  [ 14  10  10  14   8  22  11   5   7  15  15  11 127  18   2   4  19]\n",
      "Max Column Lengths increased by 30%  [ 4.2  3.   3.   4.2  2.4  6.6  3.3  1.5  2.1  4.5  4.5  3.3 38.1  5.4\n",
      "  0.6  1.2  5.7]\n",
      "Total  [ 18.2  13.   13.   18.2  10.4  28.6  14.3   6.5   9.1  19.5  19.5  14.3\n",
      " 165.1  23.4   2.6   5.2  24.7]\n"
     ]
    }
   ],
   "source": [
    "#store-sales\n",
    "data = pd.read_csv(r'C:\\Users\\srish\\Documents\\data\\dwbi\\store-sales.csv', encoding = 'latin1')\n",
    "df_store_sales = pd.DataFrame(data)\n",
    "type(new_data)\n",
    "\n",
    "print(df.columns)\n",
    "columnLenghts = np.vectorize(len)\n",
    "maxColumnLenghts = columnLenghts(df_store_sales.values.astype(str)).max(axis=0) #columnslength\n",
    "maxColumnLengths_30 = maxColumnLenghts*0.30\n",
    "new_total = maxColumnLenghts + maxColumnLengths_30\n",
    "print('Max Column Lengths ', maxColumnLenghts)\n",
    "print('Max Column Lengths increased by 30% ', maxColumnLengths_30)\n",
    "print('Total ', new_total)\n"
   ]
  },
  {
   "cell_type": "code",
   "execution_count": 86,
   "metadata": {},
   "outputs": [
    {
     "data": {
      "application/javascript": [
       "\n",
       "        if (window._pyforest_update_imports_cell) { window._pyforest_update_imports_cell('import numpy as np\\nimport pandas as pd'); }\n",
       "    "
      ],
      "text/plain": [
       "<IPython.core.display.Javascript object>"
      ]
     },
     "metadata": {},
     "output_type": "display_data"
    },
    {
     "data": {
      "application/javascript": [
       "\n",
       "        if (window._pyforest_update_imports_cell) { window._pyforest_update_imports_cell('import numpy as np\\nimport pandas as pd'); }\n",
       "    "
      ],
      "text/plain": [
       "<IPython.core.display.Javascript object>"
      ]
     },
     "metadata": {},
     "output_type": "display_data"
    },
    {
     "name": "stdout",
     "output_type": "stream",
     "text": [
      "Index(['Zip', 'City', 'State', 'Latitude', 'Longitude', 'Timezone',\n",
      "       'Daylight savings time flag', 'geopoint,'],\n",
      "      dtype='object')\n"
     ]
    },
    {
     "data": {
      "application/javascript": [
       "\n",
       "        if (window._pyforest_update_imports_cell) { window._pyforest_update_imports_cell('import numpy as np\\nimport pandas as pd'); }\n",
       "    "
      ],
      "text/plain": [
       "<IPython.core.display.Javascript object>"
      ]
     },
     "metadata": {},
     "output_type": "display_data"
    },
    {
     "name": "stdout",
     "output_type": "stream",
     "text": [
      "Max Column Lengths  [ 5 26  2 18 19  3  1 21]\n",
      "Max Column Lengths increased by 30%  [1.5 7.8 0.6 5.4 5.7 0.9 0.3 6.3]\n",
      "Total  [ 6.5 33.8  2.6 23.4 24.7  3.9  1.3 27.3]\n"
     ]
    }
   ],
   "source": [
    "#us-zip\n",
    "us_zip = pd.read_csv(r'C:\\Users\\srish\\Documents\\data\\dwbi\\us-zip-code-latitude-and-longitude.csv', encoding = 'latin1',delimiter=';')\n",
    "\n",
    "df_us_zip = pd.DataFrame(us_zip)\n",
    "# type(new_data)\n",
    "print(df_us_zip.columns)\n",
    "\n",
    "columnLenghts = np.vectorize(len)\n",
    "maxColumnLenghts = columnLenghts(df_us_zip.values.astype(str)).max(axis=0) #columnslength\n",
    "maxColumnLengths_30 = maxColumnLenghts*0.30\n",
    "new_total = maxColumnLenghts + maxColumnLengths_30\n",
    "print('Max Column Lengths ', maxColumnLenghts)\n",
    "print('Max Column Lengths increased by 30% ', maxColumnLengths_30)\n",
    "print('Total ', new_total)"
   ]
  },
  {
   "cell_type": "code",
   "execution_count": 88,
   "metadata": {},
   "outputs": [
    {
     "data": {
      "application/javascript": [
       "\n",
       "        if (window._pyforest_update_imports_cell) { window._pyforest_update_imports_cell('import numpy as np\\nimport pandas as pd'); }\n",
       "    "
      ],
      "text/plain": [
       "<IPython.core.display.Javascript object>"
      ]
     },
     "metadata": {},
     "output_type": "display_data"
    },
    {
     "data": {
      "application/javascript": [
       "\n",
       "        if (window._pyforest_update_imports_cell) { window._pyforest_update_imports_cell('import numpy as np\\nimport pandas as pd'); }\n",
       "    "
      ],
      "text/plain": [
       "<IPython.core.display.Javascript object>"
      ]
     },
     "metadata": {},
     "output_type": "display_data"
    },
    {
     "name": "stdout",
     "output_type": "stream",
     "text": [
      "Index(['Returned', 'Order ID'], dtype='object')\n"
     ]
    },
    {
     "data": {
      "application/javascript": [
       "\n",
       "        if (window._pyforest_update_imports_cell) { window._pyforest_update_imports_cell('import numpy as np\\nimport pandas as pd'); }\n",
       "    "
      ],
      "text/plain": [
       "<IPython.core.display.Javascript object>"
      ]
     },
     "metadata": {},
     "output_type": "display_data"
    },
    {
     "name": "stdout",
     "output_type": "stream",
     "text": [
      "Max Column Lengths  [ 3 14]\n",
      "Max Column Lengths increased by 30%  [0.9 4.2]\n",
      "Total  [ 3.9 18.2]\n"
     ]
    }
   ],
   "source": [
    "#store-return\n",
    "store_return = pd.read_csv(r'C:\\Users\\srish\\Documents\\data\\dwbi\\store-returns.csv', encoding = 'latin1')\n",
    "\n",
    "df_store_return = pd.DataFrame(store_return)\n",
    "# type(new_data)\n",
    "\n",
    "print(df_store_return.columns) \n",
    "columnLenghts = np.vectorize(len)\n",
    "maxColumnLenghts = columnLenghts(df_store_return.values.astype(str)).max(axis=0) #columnslength\n",
    "# maxColumnLengthsTranspose = maxColumnLenghts.transpose()\n",
    "maxColumnLengths_30 = maxColumnLenghts*0.30\n",
    "new_total = maxColumnLenghts + maxColumnLengths_30\n",
    "print('Max Column Lengths ', maxColumnLenghts)\n",
    "print('Max Column Lengths increased by 30% ', maxColumnLengths_30)\n",
    "print('Total ', new_total)\n",
    "\n"
   ]
  },
  {
   "cell_type": "code",
   "execution_count": 1,
   "metadata": {},
   "outputs": [
    {
     "data": {
      "application/javascript": [
       "\n",
       "        if (window._pyforest_update_imports_cell) { window._pyforest_update_imports_cell('import pandas as pd'); }\n",
       "    "
      ],
      "text/plain": [
       "<IPython.core.display.Javascript object>"
      ]
     },
     "metadata": {},
     "output_type": "display_data"
    }
   ],
   "source": []
  },
  {
   "cell_type": "code",
   "execution_count": 4,
   "metadata": {},
   "outputs": [
    {
     "data": {
      "application/javascript": [
       "\n",
       "        if (window._pyforest_update_imports_cell) { window._pyforest_update_imports_cell('import pandas as pd'); }\n",
       "    "
      ],
      "text/plain": [
       "<IPython.core.display.Javascript object>"
      ]
     },
     "metadata": {},
     "output_type": "display_data"
    }
   ],
   "source": []
  },
  {
   "cell_type": "code",
   "execution_count": 6,
   "metadata": {},
   "outputs": [],
   "source": [
    "\n"
   ]
  },
  {
   "cell_type": "code",
   "execution_count": null,
   "metadata": {},
   "outputs": [],
   "source": []
  }
 ],
 "metadata": {
  "kernelspec": {
   "display_name": "Python 3",
   "language": "python",
   "name": "python3"
  },
  "language_info": {
   "codemirror_mode": {
    "name": "ipython",
    "version": 3
   },
   "file_extension": ".py",
   "mimetype": "text/x-python",
   "name": "python",
   "nbconvert_exporter": "python",
   "pygments_lexer": "ipython3",
   "version": "3.7.4"
  }
 },
 "nbformat": 4,
 "nbformat_minor": 2
}
